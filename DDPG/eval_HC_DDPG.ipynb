{
 "cells": [
  {
   "cell_type": "markdown",
   "metadata": {
    "colab_type": "text",
    "id": "gA8FHJqiMgOo"
   },
   "source": [
    "## **OpenAI Gym, PyBullet and PyBulletGym Installation**\n",
    "[Click here to see Gym documentaion](https://gym.openai.com/docs/)\n",
    "\n",
    "[Click here to see PyBullet documentaion](https://docs.google.com/document/d/10sXEhzFRSnvFcl3XxNGhnD4N2SedqwdAvK3dsihxVUA)\n",
    "\n",
    "[Click here to see PyBulletGym page](https://github.com/benelot/pybullet-gym)\n",
    "\n"
   ]
  },
  {
   "cell_type": "markdown",
   "metadata": {
    "colab_type": "text",
    "id": "C1LashLPkqYx"
   },
   "source": [
    "# Student: Bo Cao\n",
    "Note that this assignment was done in a remote server."
   ]
  },
  {
   "cell_type": "markdown",
   "metadata": {
    "colab_type": "text",
    "id": "nipCFbQpMu8h"
   },
   "source": [
    "**Before we start, first update the apt-get tool in the given machine.**"
   ]
  },
  {
   "cell_type": "code",
   "execution_count": 1,
   "metadata": {},
   "outputs": [
    {
     "name": "stdout",
     "output_type": "stream",
     "text": [
      "3.7.4 (default, Aug 13 2019, 20:35:49) \n",
      "[GCC 7.3.0]\n"
     ]
    }
   ],
   "source": [
    "import sys\n",
    "print(sys.version)"
   ]
  },
  {
   "cell_type": "code",
   "execution_count": 2,
   "metadata": {
    "colab": {
     "base_uri": "https://localhost:8080/",
     "height": 238
    },
    "colab_type": "code",
    "id": "zViYHb_7C2fi",
    "outputId": "66c01425-b9aa-4981-be6c-787d632d7024"
   },
   "outputs": [],
   "source": [
    "# !apt-get update"
   ]
  },
  {
   "cell_type": "markdown",
   "metadata": {
    "colab_type": "text",
    "id": "6x2LqNwbMFww"
   },
   "source": [
    "Most of the requirements of python packages are already fulfilled on Colab. To run Gym, you have to install prerequisites like xvbf,opengl & other python-dev packages using the following codes."
   ]
  },
  {
   "cell_type": "code",
   "execution_count": 3,
   "metadata": {
    "colab": {
     "base_uri": "https://localhost:8080/",
     "height": 408
    },
    "colab_type": "code",
    "id": "EY1Z1npZC5fo",
    "outputId": "026f6bb0-04e3-4651-8c48-5095b4046b33"
   },
   "outputs": [],
   "source": [
    "# !pip install gym\n",
    "# !apt-get install python-opengl -y\n",
    "# !apt install xvfb -y"
   ]
  },
  {
   "cell_type": "markdown",
   "metadata": {
    "colab_type": "text",
    "id": "fH-G48ZaSlFO"
   },
   "source": [
    "For rendering environment, you can use pyvirtualdisplay. So fulfill that"
   ]
  },
  {
   "cell_type": "code",
   "execution_count": 4,
   "metadata": {
    "colab": {
     "base_uri": "https://localhost:8080/",
     "height": 187
    },
    "colab_type": "code",
    "id": "RD8I53YpC92T",
    "outputId": "50692931-75b4-4969-9b32-77c92d46cb61"
   },
   "outputs": [],
   "source": [
    "# !pip install pyvirtualdisplay\n",
    "# !pip install piglet"
   ]
  },
  {
   "cell_type": "code",
   "execution_count": 5,
   "metadata": {
    "colab": {
     "base_uri": "https://localhost:8080/",
     "height": 34
    },
    "colab_type": "code",
    "id": "5-z6FT2NYzXE",
    "outputId": "bc8cd11d-00dd-42ac-e40f-67156fa99cdb"
   },
   "outputs": [],
   "source": [
    "# !pip install pybullet==2.5.9"
   ]
  },
  {
   "cell_type": "code",
   "execution_count": 6,
   "metadata": {
    "colab": {},
    "colab_type": "code",
    "id": "HHwqCuAVDrn9"
   },
   "outputs": [],
   "source": [
    "# !git clone https://github.com/benelot/pybullet-gym.git # should already be there in my Google Drive"
   ]
  },
  {
   "cell_type": "markdown",
   "metadata": {
    "colab_type": "text",
    "id": "oXc2n4nNaeU6"
   },
   "source": [
    "## **Update the source code**\n",
    "In pybulletgym/envs/mujoco/envs/pendulum/inverted_pendulum_env.py, line 32, change\n",
    "\n",
    "done = not np.isfinite(state).all() or np.abs(state[1]) > .2\n",
    "\n",
    "to\n",
    "\n",
    "done = abs(state[0][0]) > 2.4 or abs(state[0][1]) > 0.27\n",
    "\n",
    "**Restart runtime and run the following cells.**"
   ]
  },
  {
   "cell_type": "code",
   "execution_count": 7,
   "metadata": {
    "colab": {},
    "colab_type": "code",
    "id": "_GVojhyza7Nz"
   },
   "outputs": [],
   "source": [
    "# cd /content/pybullet-gym/ # use the address below instead"
   ]
  },
  {
   "cell_type": "code",
   "execution_count": 8,
   "metadata": {
    "colab": {
     "base_uri": "https://localhost:8080/",
     "height": 34
    },
    "colab_type": "code",
    "id": "7uSrlp8xatq_",
    "outputId": "864bb347-69b1-4dac-da0b-275f5fbefe54"
   },
   "outputs": [],
   "source": [
    "# cd './pybullet-gym'"
   ]
  },
  {
   "cell_type": "code",
   "execution_count": 9,
   "metadata": {
    "colab": {
     "base_uri": "https://localhost:8080/",
     "height": 136
    },
    "colab_type": "code",
    "id": "-gEJuj5LDxL0",
    "outputId": "66e73ccd-bc5f-4d57-cd55-0c8f28709a59"
   },
   "outputs": [],
   "source": [
    "# !pip install -e ."
   ]
  },
  {
   "cell_type": "markdown",
   "metadata": {
    "colab_type": "text",
    "id": "uZVlna0dTh3N"
   },
   "source": [
    "Import everything."
   ]
  },
  {
   "cell_type": "code",
   "execution_count": 10,
   "metadata": {
    "colab": {},
    "colab_type": "code",
    "id": "zuMjm4mjC_9T"
   },
   "outputs": [],
   "source": [
    "from __future__ import division\n",
    "import gym\n",
    "from gym import logger as gymlogger\n",
    "from gym.wrappers import Monitor\n",
    "gymlogger.set_level(40) # error only\n",
    "\n",
    "import pybulletgym  # register PyBullet enviroments with open ai gym\n",
    "import pybullet\n",
    "import pybullet_data\n",
    "\n",
    "import numpy as np\n",
    "import random\n",
    "import matplotlib\n",
    "import matplotlib.pyplot as plt\n",
    "%matplotlib inline\n",
    "import math\n",
    "import glob\n",
    "import io\n",
    "import base64\n",
    "import os\n",
    "from os import path\n",
    "\n",
    "from IPython.display import HTML\n",
    "from IPython import display as ipythondisplay\n",
    "\n",
    "# Colab comes with PyTorch\n",
    "import torch\n",
    "import torch.nn as nn\n",
    "import torch.nn.functional as F\n",
    "from torch.autograd import Variable\n",
    "from collections import namedtuple\n",
    "from itertools import count\n",
    "from PIL import Image\n",
    "import shutil\n",
    "\n",
    "import gym\n",
    "import os\n",
    "import psutil\n",
    "import gc\n",
    "\n",
    "import statistics\n",
    "\n",
    "from collections import deque"
   ]
  },
  {
   "cell_type": "code",
   "execution_count": 11,
   "metadata": {},
   "outputs": [],
   "source": [
    "# ---------------\n",
    "# All parameters\n",
    "# ---------------\n",
    "class Params:\n",
    "    def __init__(self):\n",
    "        # Paramaters for this experiment\n",
    "        self.exp_id = 'htc_actor_critic_pytorch_1'\n",
    "        self.env_id = 'HalfCheetahMuJoCoEnv-v0' # 'HalfCheetahMuJoCoEnv-v0' # 'Pendulum-v0' # 'InvertedPendulumMuJoCoEnv-v0' #\n",
    "        self.server_path = '/home/bryanbc/Repos/rl/'\n",
    "        self.hw = 'hw02'\n",
    "        self.video_path = self.server_path + self.hw + '/' + self.exp_id + '/video/'\n",
    "        self.mp4list_path = self.video_path + '*.mp4'\n",
    "        \n",
    "        self.save_model_episode_interval = 10\n",
    "        self.saved_models_path = '/ssd/bryanbc/saved_models/' + self.hw + '/' + self.exp_id\n",
    "        self.train_start_episode = 150\n",
    "        self.eval_start_episode = 230 # model saved for evaluation\n",
    "        \n",
    "        # Parameters for models\n",
    "        self.learning_rate = 0.001\n",
    "        self.batch_size = 128\n",
    "        self.epsilon = 1.0\n",
    "        self.epsilon_decay = 0.99\n",
    "        self.gamma = 0.99\n",
    "        self.tau   =  0.001 # 0.125\n",
    "        self.max_buffer = 1000000\n",
    "        self.dropout_rate = 0.5\n",
    "        self.sigma = 0.01\n",
    "        \n",
    "        # Parameters for enviroment\n",
    "        self.max_episodes = 5000\n",
    "        self.max_steps = 1000\n",
    "        self.EPS = 0.003\n",
    "        \n",
    "        self.log_path = '/ssd/bryanbc/data/logs/hw/' + self.hw + '/' + self.exp_id + '_'\n",
    "        \n",
    "PARAMS = Params()"
   ]
  },
  {
   "cell_type": "code",
   "execution_count": 12,
   "metadata": {},
   "outputs": [],
   "source": [
    "# Open log files\n",
    "log_file = open((PARAMS.log_path + 'episode_reward.log'), 'a')"
   ]
  },
  {
   "cell_type": "markdown",
   "metadata": {
    "colab_type": "text",
    "id": "eGXHAGHRTJjd"
   },
   "source": [
    "To activate virtual display, we need to run a script once for training an agent, as follows:"
   ]
  },
  {
   "cell_type": "code",
   "execution_count": 13,
   "metadata": {
    "colab": {
     "base_uri": "https://localhost:8080/",
     "height": 71
    },
    "colab_type": "code",
    "id": "50In5ybcFUMm",
    "outputId": "55ac7443-2389-471c-fc14-9d9d8187d888"
   },
   "outputs": [
    {
     "data": {
      "text/plain": [
       "<Display cmd_param=['Xvfb', '-br', '-nolisten', 'tcp', '-screen', '0', '1400x900x24', ':5489'] cmd=['Xvfb', '-br', '-nolisten', 'tcp', '-screen', '0', '1400x900x24', ':5489'] oserror=None return_code=None stdout=\"None\" stderr=\"None\" timeout_happened=False>"
      ]
     },
     "execution_count": 13,
     "metadata": {},
     "output_type": "execute_result"
    }
   ],
   "source": [
    "from pyvirtualdisplay import Display\n",
    "display = Display(visible=0, size=(1400, 900))\n",
    "display.start()"
   ]
  },
  {
   "cell_type": "markdown",
   "metadata": {
    "colab_type": "text",
    "id": "KzcbS-GyTUKG"
   },
   "source": [
    "The following code creates a virtual display to draw game images on. If you are running locally, just ignore it."
   ]
  },
  {
   "cell_type": "code",
   "execution_count": 14,
   "metadata": {
    "colab": {},
    "colab_type": "code",
    "id": "5hwrBwc_TSfA"
   },
   "outputs": [],
   "source": [
    "import os\n",
    "if type(os.environ.get(\"DISPLAY\")) is not str or len(os.environ.get(\"DISPLAY\"))==0:\n",
    "    !bash ../xvfb start\n",
    "    %env DISPLAY=:1"
   ]
  },
  {
   "cell_type": "code",
   "execution_count": 15,
   "metadata": {
    "colab": {},
    "colab_type": "code",
    "id": "310x8KjeDF1n"
   },
   "outputs": [],
   "source": [
    "\"\"\"\n",
    "Utility functions to enable video recording of gym environment and displaying it\n",
    "To enable video, just do \"env = wrap_env(env)\"\"\n",
    "\"\"\"\n",
    "# mp4list_path_colab = '/content/gdrive/My Drive/video/*.mp4'\n",
    "def show_video():\n",
    "    mp4list = glob.glob(PARAMS.mp4list_path) # glob.glob('/content/video/*.mp4')\n",
    "    if len(mp4list) > 0:\n",
    "        mp4 = mp4list[0]\n",
    "        video = io.open(mp4, 'r+b').read()\n",
    "        encoded = base64.b64encode(video)\n",
    "        ipythondisplay.display(HTML(data='''<video alt=\"test\" autoplay \n",
    "                loop controls style=\"height: 400px;\">\n",
    "                <source src=\"data:video/mp4;base64,{0}\" type=\"video/mp4\" />\n",
    "                </video>'''.format(encoded.decode('ascii'))))\n",
    "    else: \n",
    "        print(\"Could not find video\")\n",
    "    \n",
    "# video_path_colab = '/content/gdrive/My Drive/video/'\n",
    "def wrap_env(env):\n",
    "    env = Monitor(env, PARAMS.video_path, force=True) # Monitor(env, '/content/video', force=True)\n",
    "    return env"
   ]
  },
  {
   "cell_type": "code",
   "execution_count": 16,
   "metadata": {},
   "outputs": [
    {
     "name": "stdout",
     "output_type": "stream",
     "text": [
      "current_dir=/home/bryanbc/Apps/anaconda3/lib/python3.7/site-packages/pybullet_envs/bullet\n",
      "WalkerBase::__init__\n",
      "s_dim: 17  PARAMS.env.observation_space.shape:  (17,)\n",
      "a_dim:  6  PARAMS.env.action_space.shape:  (6,)\n",
      "PARAMS.env.action_space.high:  [1. 1. 1. 1. 1. 1.]\n",
      "PARAMS.env.action_space.low:  [-1. -1. -1. -1. -1. -1.]\n"
     ]
    },
    {
     "name": "stderr",
     "output_type": "stream",
     "text": [
      "/home/bryanbc/Apps/anaconda3/lib/python3.7/site-packages/gym/envs/registration.py:14: PkgResourcesDeprecationWarning: Parameters to load are deprecated.  Call .resolve and .require separately.\n",
      "  result = entry_point.load(False)\n"
     ]
    }
   ],
   "source": [
    "# Create Environment\n",
    "PARAMS.env = gym.make(PARAMS.env_id)\n",
    "PARAMS.env = wrap_env(PARAMS.env)\n",
    "\n",
    "s_dim = PARAMS.env.observation_space.shape[0]\n",
    "a_dim = PARAMS.env.action_space.shape[0]\n",
    "\n",
    "print(\"s_dim:\", s_dim, \" PARAMS.env.observation_space.shape: \", PARAMS.env.observation_space.shape)\n",
    "print(\"a_dim: \", a_dim, \" PARAMS.env.action_space.shape: \", PARAMS.env.action_space.shape)\n",
    "print(\"PARAMS.env.action_space.high: \", PARAMS.env.action_space.high)\n",
    "print(\"PARAMS.env.action_space.low: \", PARAMS.env.action_space.low)"
   ]
  },
  {
   "cell_type": "markdown",
   "metadata": {
    "colab_type": "text",
    "id": "JxGb76TexllA"
   },
   "source": [
    "# **RL Algorithms**\n",
    "Since the action space is continuous, I use DDPG(Actor-Critic on continuous actions) https://arxiv.org/pdf/1509.02971.pdf. Note that $logπ_{θ}(a|s)$ and the advantage term are not in the code because they are used to approximate the policy gradient $∇_{θ}J(θ)$ with computationally efficiency, while DDPG uses a different way to compute $∇_{θ}J(θ)$ as shown in the report and paper.\n",
    "\n",
    "My code is based on this tutorial: https://github.com/vy007vikas/PyTorch-ActorCriticRL and https://pemami4911.github.io/blog/2016/08/21/ddpg-rl.html. Note that action value ranges is [-1, 1] in this hw, so 'tanh' is used as the activation in the last layer to be in the same range as the action."
   ]
  },
  {
   "cell_type": "markdown",
   "metadata": {},
   "source": [
    "# Utility"
   ]
  },
  {
   "cell_type": "code",
   "execution_count": 17,
   "metadata": {},
   "outputs": [],
   "source": [
    "# Based on http://math.stackexchange.com/questions/1287634/implementing-ornstein-uhlenbeck-in-matlab\n",
    "class OrnsteinUhlenbeckActionNoise:\n",
    "\n",
    "    def __init__(self, a_dim, mu = 0, theta = 0.15, sigma = 0.2):\n",
    "        self.a_dim = a_dim\n",
    "        self.mu = mu\n",
    "        self.theta = theta\n",
    "        self.sigma = sigma\n",
    "        self.X = np.ones(self.a_dim) * self.mu\n",
    "\n",
    "    def reset(self):\n",
    "        self.X = np.ones(self.a_dim) * self.mu\n",
    "\n",
    "    def sample(self):\n",
    "        dx = self.theta * (self.mu - self.X)\n",
    "        dx = dx + self.sigma * np.random.randn(len(self.X))\n",
    "        self.X = self.X + dx\n",
    "        return self.X"
   ]
  },
  {
   "cell_type": "markdown",
   "metadata": {},
   "source": [
    "# ReplayBuffer"
   ]
  },
  {
   "cell_type": "code",
   "execution_count": 18,
   "metadata": {
    "colab": {
     "base_uri": "https://localhost:8080/",
     "height": 153
    },
    "colab_type": "code",
    "id": "U7RjyvDtFkZI",
    "outputId": "6b1eedba-28d8-4114-de3a-e2d8eb6441f1"
   },
   "outputs": [],
   "source": [
    "'''\n",
    "ReplayBuffer\n",
    "'''\n",
    "class ReplayBuffer:\n",
    "\n",
    "    def __init__(self, size):\n",
    "        self.buffer = deque(maxlen=size)\n",
    "        self.max_size = size\n",
    "        self.len = 0\n",
    "\n",
    "    def sample(self, count):\n",
    "        '''\n",
    "        Sample a random batch from the replay buffer.\n",
    "            input:\n",
    "                count: batch size\n",
    "            return:\n",
    "                batch (numpy array)\n",
    "        '''\n",
    "        batch = []\n",
    "        count = min(count, self.len)\n",
    "        batch = random.sample(self.buffer, count)\n",
    "\n",
    "        s_arr = np.float32([arr[0] for arr in batch])\n",
    "        a_arr = np.float32([arr[1] for arr in batch])\n",
    "        r_arr = np.float32([arr[2] for arr in batch])\n",
    "        s1_arr = np.float32([arr[3] for arr in batch])\n",
    "\n",
    "        return s_arr, a_arr, r_arr, s1_arr\n",
    "\n",
    "    def len(self):\n",
    "        return self.len\n",
    "\n",
    "    def remember(self, s, a, r, s1):\n",
    "        '''\n",
    "        Append a transition in the replay buffer.\n",
    "            input:\n",
    "                transition (s, a, r, s1)\n",
    "        '''\n",
    "        transition = (s, a, r, s1)\n",
    "        self.len += 1\n",
    "        if self.len > self.max_size:\n",
    "            self.len = self.max_size\n",
    "        self.buffer.append(transition)"
   ]
  },
  {
   "cell_type": "markdown",
   "metadata": {},
   "source": [
    "# Actor Critic Network"
   ]
  },
  {
   "cell_type": "code",
   "execution_count": 19,
   "metadata": {},
   "outputs": [],
   "source": [
    "def fanin_init(size, fanin=None):\n",
    "    fanin = fanin or size[0]\n",
    "    v = 1. / np.sqrt(fanin)\n",
    "    return torch.Tensor(size).uniform_(-v, v)\n",
    "\n",
    "'''\n",
    "Actor\n",
    "'''\n",
    "class Actor(nn.Module):\n",
    "\n",
    "    def __init__(self, s_dim, a_dim):\n",
    "        '''\n",
    "        input:\n",
    "            s_dim: state dimension (int)\n",
    "            a_dim: output action dimension (int)\n",
    "        '''\n",
    "        super(Actor, self).__init__()\n",
    "\n",
    "        self.s_dim = s_dim\n",
    "        self.a_dim = a_dim\n",
    "\n",
    "        self.fc1 = nn.Linear(s_dim, 256)\n",
    "        self.fc1.weight.data = fanin_init(self.fc1.weight.data.size())\n",
    "\n",
    "        self.fc2 = nn.Linear(256, 128)\n",
    "        self.fc2.weight.data = fanin_init(self.fc2.weight.data.size())\n",
    "\n",
    "        self.fc3 = nn.Linear(128, 64)\n",
    "        self.fc3.weight.data = fanin_init(self.fc3.weight.data.size())\n",
    "\n",
    "        self.fc4 = nn.Linear(64, a_dim)\n",
    "        self.fc4.weight.data.uniform_(-PARAMS.EPS,PARAMS.EPS)\n",
    "\n",
    "    def forward(self, s):\n",
    "        '''\n",
    "        Return policy function Pi(s) obtained from actor network.\n",
    "        '''\n",
    "        x = F.relu(self.fc1(s))\n",
    "        x = F.relu(self.fc2(x))\n",
    "        x = F.relu(self.fc3(x))\n",
    "        a = F.tanh(self.fc4(x)) # tanh to match the action space [-1, 1]\n",
    "        return a\n",
    "\n",
    "\n",
    "'''\n",
    "Critic\n",
    "'''\n",
    "class Critic(nn.Module):\n",
    "\n",
    "    def __init__(self, s_dim, a_dim):\n",
    "        '''\n",
    "        input:\n",
    "            s_dim: state dimension (int)\n",
    "            a_dim: output action dimension (int)\n",
    "        '''\n",
    "        super(Critic, self).__init__()\n",
    "\n",
    "        self.s_dim = s_dim\n",
    "        self.a_dim = a_dim\n",
    "\n",
    "        self.fc_s1 = nn.Linear(s_dim, 256)\n",
    "        self.fc_s1.weight.data = fanin_init(self.fc_s1.weight.data.size())\n",
    "        self.fc_s2 = nn.Linear(256, 128)\n",
    "        self.fc_s2.weight.data = fanin_init(self.fc_s2.weight.data.size())\n",
    "\n",
    "        self.fc_a1 = nn.Linear(a_dim, 128)\n",
    "        self.fc_a1.weight.data = fanin_init(self.fc_a1.weight.data.size())\n",
    "\n",
    "        self.fc2 = nn.Linear(256, 128)\n",
    "        self.fc2.weight.data = fanin_init(self.fc2.weight.data.size())\n",
    "\n",
    "        self.fc3 = nn.Linear(128, 1)\n",
    "        self.fc3.weight.data.uniform_(-PARAMS.EPS, PARAMS.EPS)\n",
    "\n",
    "    def forward(self, s, a):\n",
    "        s1 = F.relu(self.fc_s1(s))\n",
    "        s2 = F.relu(self.fc_s2(s1))\n",
    "        a1 = F.relu(self.fc_a1(a))\n",
    "        x = torch.cat((s2, a1), dim=1)\n",
    "\n",
    "        x = F.relu(self.fc2(x))\n",
    "        x = self.fc3(x)\n",
    "        return x\n",
    "    \n",
    "\n",
    "'''\n",
    "Actor-critic\n",
    "'''\n",
    "class ActorCritic:\n",
    "\n",
    "    def __init__(self, s_dim, a_dim, replay_buffer):\n",
    "        '''\n",
    "        input:\n",
    "            s_dim: state dimension (int)\n",
    "            a_dim: output action dimension (int)\n",
    "            replay_buffer: replay_buffer object\n",
    "        '''\n",
    "        self.s_dim = s_dim\n",
    "        self.a_dim = a_dim\n",
    "        self.replay_buffer = replay_buffer\n",
    "        self.iter = 0\n",
    "        self.noise = OrnsteinUhlenbeckActionNoise(self.a_dim)\n",
    "\n",
    "        # actor\n",
    "        self.actor = Actor(self.s_dim, self.a_dim)\n",
    "        self.target_actor = Actor(self.s_dim, self.a_dim)\n",
    "        self.actor_optimizer = torch.optim.Adam(self.actor.parameters(), PARAMS.learning_rate)\n",
    "\n",
    "        self.critic = Critic(self.s_dim, self.a_dim)\n",
    "        self.target_critic = Critic(self.s_dim, self.a_dim)\n",
    "        self.critic_optimizer = torch.optim.Adam(self.critic.parameters(), PARAMS.learning_rate)\n",
    "\n",
    "        self.hard_update(self.target_actor, self.actor)\n",
    "        self.hard_update(self.target_critic, self.critic)\n",
    "        \n",
    "    def select_action(self, s, a_type=\"exploitation\"):\n",
    "        '''\n",
    "        input:\n",
    "            s: state (Numpy array)\n",
    "            a: sampled action (Numpy array)\n",
    "        '''\n",
    "        if a_type == \"exploration\":\n",
    "            '''\n",
    "            Return an action from actor added with exploration noise.\n",
    "            '''\n",
    "            s = Variable(torch.from_numpy(s))\n",
    "            a = self.actor.forward(s).detach()\n",
    "            new_a = a.data.numpy() + (self.noise.sample())\n",
    "            return np.clip(new_a, PARAMS.env.action_space.low, PARAMS.env.action_space.high)\n",
    "        else:\n",
    "            '''\n",
    "            a_type=\"exploitation\"\n",
    "            Return an action from target actor added with exploration noise\n",
    "            '''\n",
    "            s = Variable(torch.from_numpy(s))\n",
    "            a = self.target_actor.forward(s).detach()\n",
    "        return np.clip(a.data.numpy(), PARAMS.env.action_space.low, PARAMS.env.action_space.high)\n",
    "\n",
    "    def train(self):\n",
    "        '''\n",
    "        Sample a random batch from replay memory and train the actor-critic model.\n",
    "        '''\n",
    "        s1, a1, r1, s2 = self.replay_buffer.sample(PARAMS.batch_size)\n",
    "\n",
    "        # Convert numpy variables to Pytorch ones.\n",
    "        s1 = Variable(torch.from_numpy(s1))\n",
    "        a1 = Variable(torch.from_numpy(a1))\n",
    "        r1 = Variable(torch.from_numpy(r1))\n",
    "        s2 = Variable(torch.from_numpy(s2))\n",
    "\n",
    "        # -------------\n",
    "        # Train critic\n",
    "        # -------------\n",
    "        # Use target actor exploitation policy here for loss evaluation\n",
    "        a2 = self.target_actor.forward(s2).detach()\n",
    "        next_v = torch.squeeze(self.target_critic.forward(s2, a2).detach())\n",
    "        exp_y = r1 + PARAMS.gamma * next_v\n",
    "        pred_y = torch.squeeze(self.critic.forward(s1, a1))\n",
    "        \n",
    "        # compute critic loss, and update the critic\n",
    "        loss_critic = F.smooth_l1_loss(pred_y, exp_y)\n",
    "        self.critic_optimizer.zero_grad()\n",
    "        loss_critic.backward()\n",
    "        self.critic_optimizer.step()\n",
    "\n",
    "        # ------------\n",
    "        # Train actor\n",
    "        # ------------\n",
    "        pred_a1 = self.actor.forward(s1)\n",
    "        loss_actor = -1*torch.sum(self.critic.forward(s1, pred_a1))\n",
    "        self.actor_optimizer.zero_grad()\n",
    "        loss_actor.backward()\n",
    "        self.actor_optimizer.step()\n",
    "\n",
    "        self.soft_update(self.target_actor, self.actor, PARAMS.tau)\n",
    "        self.soft_update(self.target_critic, self.critic, PARAMS.tau)\n",
    "\n",
    "    def save_models(self, episode_i):\n",
    "        torch.save(self.target_actor.state_dict(), \\\n",
    "                   '%s/actor_episode_%d.pt' % \n",
    "                        (PARAMS.saved_models_path, episode_i))\n",
    "        torch.save(self.target_critic.state_dict(), \\\n",
    "                   '%s/critic_episode_%d.pt' % \n",
    "                        (PARAMS.saved_models_path, episode_i))\n",
    "        print('Models %s/actor_episode_%d.pt and %s/critic_episode_%d.pt saved successfully' % \n",
    "                        (PARAMS.saved_models_path, episode_i,\n",
    "                         PARAMS.saved_models_path, episode_i))\n",
    "\n",
    "    def load_models(self, episode_i):\n",
    "        self.actor.load_state_dict(torch.load('%s/actor_episode_%d.pt' % \n",
    "                        (PARAMS.saved_models_path, episode_i)))\n",
    "        self.critic.load_state_dict(torch.load('%s/critic_episode_%d.pt' % \n",
    "                        (PARAMS.saved_models_path, episode_i)))\n",
    "        self.hard_update(self.target_actor, self.actor)\n",
    "        self.hard_update(self.target_critic, self.critic)\n",
    "        print('Models %s/actor_episode_%d.pt and %s/critic_episode_%d.pt loaded successfully' % \n",
    "                        (PARAMS.saved_models_path, episode_i,\n",
    "                         PARAMS.saved_models_path, episode_i))\n",
    "        \n",
    "    def soft_update(self, target, source, tau):\n",
    "        '''\n",
    "        Copies the parameters from source network (x) to target network (y) using the below update\n",
    "        y = TAU*x + (1 - TAU)*y\n",
    "        input:\n",
    "            target: Target network (PyTorch)\n",
    "            source: Source network (PyTorch)\n",
    "        '''\n",
    "        for target_param, param in zip(target.parameters(), source.parameters()):\n",
    "            target_param.data.copy_(\n",
    "                target_param.data * (1.0 - tau) + param.data * tau\n",
    "            )\n",
    "\n",
    "    def hard_update(self, target, source):\n",
    "        '''\n",
    "        Copies the parameters from source network to target network\n",
    "        input:\n",
    "            target: Target network (PyTorch)\n",
    "             source: Source network (PyTorch)\n",
    "        '''\n",
    "        for target_param, param in zip(target.parameters(), source.parameters()):\n",
    "            target_param.data.copy_(param.data)"
   ]
  },
  {
   "cell_type": "markdown",
   "metadata": {},
   "source": [
    "# Evaluation"
   ]
  },
  {
   "cell_type": "code",
   "execution_count": 20,
   "metadata": {
    "colab": {
     "base_uri": "https://localhost:8080/",
     "height": 761
    },
    "colab_type": "code",
    "id": "3l_Q9c24GQ1M",
    "outputId": "301c1269-e4b3-4739-8e49-3b5e3fc4559e",
    "scrolled": true
   },
   "outputs": [
    {
     "name": "stdout",
     "output_type": "stream",
     "text": [
      "Models /ssd/bryanbc/saved_models/hw02/htc_actor_critic_pytorch_1/actor_episode_230.pt and /ssd/bryanbc/saved_models/hw02/htc_actor_critic_pytorch_1/critic_episode_230.pt loaded successfully\n",
      "options= \n"
     ]
    },
    {
     "name": "stderr",
     "output_type": "stream",
     "text": [
      "/home/bryanbc/Apps/anaconda3/lib/python3.7/site-packages/torch/nn/functional.py:1340: UserWarning: nn.functional.tanh is deprecated. Use torch.tanh instead.\n",
      "  warnings.warn(\"nn.functional.tanh is deprecated. Use torch.tanh instead.\")\n"
     ]
    },
    {
     "name": "stdout",
     "output_type": "stream",
     "text": [
      "episode_i:  0 episode reward:  1722.7921924968473  Episode finished after 1000 timesteps\n"
     ]
    },
    {
     "name": "stderr",
     "output_type": "stream",
     "text": [
      "/home/bryanbc/Apps/anaconda3/lib/python3.7/site-packages/torch/nn/functional.py:1340: UserWarning: nn.functional.tanh is deprecated. Use torch.tanh instead.\n",
      "  warnings.warn(\"nn.functional.tanh is deprecated. Use torch.tanh instead.\")\n"
     ]
    },
    {
     "name": "stdout",
     "output_type": "stream",
     "text": [
      "episode_i:  1 episode reward:  2090.664664477557  Episode finished after 1000 timesteps\n",
      "episode_i:  2 episode reward:  2025.2722779295955  Episode finished after 1000 timesteps\n",
      "episode_i:  3 episode reward:  2055.403679219437  Episode finished after 1000 timesteps\n",
      "episode_i:  4 episode reward:  2066.283788600275  Episode finished after 1000 timesteps\n",
      "episode_i:  5 episode reward:  2085.1043709424966  Episode finished after 1000 timesteps\n",
      "episode_i:  6 episode reward:  2060.3644969883653  Episode finished after 1000 timesteps\n",
      "episode_i:  7 episode reward:  2044.045034643052  Episode finished after 1000 timesteps\n"
     ]
    },
    {
     "name": "stderr",
     "output_type": "stream",
     "text": [
      "/home/bryanbc/Apps/anaconda3/lib/python3.7/site-packages/torch/nn/functional.py:1340: UserWarning: nn.functional.tanh is deprecated. Use torch.tanh instead.\n",
      "  warnings.warn(\"nn.functional.tanh is deprecated. Use torch.tanh instead.\")\n"
     ]
    },
    {
     "name": "stdout",
     "output_type": "stream",
     "text": [
      "episode_i:  8 episode reward:  2071.416118176017  Episode finished after 1000 timesteps\n",
      "episode_i:  9 episode reward:  2042.9770856563857  Episode finished after 1000 timesteps\n"
     ]
    }
   ],
   "source": [
    "##################\n",
    "### Evaluation ###\n",
    "##################\n",
    "# Let the agent interact with the environment\n",
    "total_steps = 0\n",
    "last_ten_episode_rewards, last_ten_episode_rewards_i = [], 0\n",
    "episode_i = PARAMS.eval_start_episode\n",
    "\n",
    "# Create an instance of replay buffer.\n",
    "replay_buffer = ReplayBuffer(PARAMS.max_buffer)\n",
    "# Create an instance of ActorCritic model.\n",
    "actor_critic = ActorCritic(s_dim, a_dim, replay_buffer)\n",
    "\n",
    "# -------------\n",
    "# Load weights\n",
    "# -------------\n",
    "os.makedirs(PARAMS.saved_models_path, exist_ok=True)\n",
    "if path.exists('%s/actor_episode_%d.pt' % \n",
    "        (PARAMS.saved_models_path, episode_i)) and \\\n",
    "    path.exists('%s/critic_episode_%d.pt' % \n",
    "        (PARAMS.saved_models_path, episode_i)):\n",
    "    actor_critic.load_models(episode_i)\n",
    "else:\n",
    "    print('%s/actor_episode_%d.pt or %s/actor_episode_%d.pt does not exist.' % \n",
    "                        (PARAMS.saved_models_path, episode_i,\n",
    "                         PARAMS.saved_models_path, episode_i))\n",
    "    \n",
    "actor_critic.actor.eval() # Set the network in evaluation mode\n",
    "actor_critic.critic.eval() # Set the network in evaluation mode\n",
    "\n",
    "# -----------------------------------\n",
    "#  Evaluate the network for 10 times\n",
    "# -----------------------------------\n",
    "eval_scores = []\n",
    "for episode_i in range(10):\n",
    "    \n",
    "    obs = PARAMS.env.reset()\n",
    "    episode_reward = 0\n",
    "\n",
    "    # Iterate through all steps\n",
    "    for t in range(PARAMS.max_steps):\n",
    "        PARAMS.env.render()\n",
    "\n",
    "        # s: current state\n",
    "        s = np.float32(obs).flatten() # Need to flatten because InvertedPendulumMuJoCoEnv-v0's state is in shape of (2,2)\n",
    "\n",
    "        # Select and perform an action\n",
    "        a = actor_critic.select_action(s, \"exploitation\") # eploitation during evaluation\n",
    "        # print(\"pred a: \", a) # Verify predicted action value\n",
    "\n",
    "        # One Step\n",
    "        obs, r, done, info = PARAMS.env.step(a) # r: immediate reward, done: terminal state indicator\n",
    "        s1 = np.float32(obs).flatten() # Need to flatten because InvertedPendulumMuJoCoEnv-v0's state is in shape of (2,2)\n",
    "\n",
    "        # Store the transition in the replay buffer\n",
    "        # replay_buffer.remember(s, a, r, s1) # comment this out during evaluation\n",
    "\n",
    "        # Train the networks\n",
    "        # actor_critic.train() # comment this out during evaluation\n",
    "\n",
    "        episode_reward += r\n",
    "\n",
    "        if done:\n",
    "            s1 = None\n",
    "            eval_scores.append(episode_reward)\n",
    "            print(\"episode_i: \", episode_i, \"episode reward: \", episode_reward, \" Episode finished after {} timesteps\".format(t+1))\n",
    "            break\n",
    "    \n",
    "PARAMS.env.close()"
   ]
  },
  {
   "cell_type": "code",
   "execution_count": 21,
   "metadata": {},
   "outputs": [
    {
     "data": {
      "text/html": [
       "<video alt=\"test\" autoplay \n",
       "                loop controls style=\"height: 400px;\">\n",
       "                <source src=\"data:video/mp4;base64,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\" type=\"video/mp4\" />\n",
       "                </video>"
      ],
      "text/plain": [
       "<IPython.core.display.HTML object>"
      ]
     },
     "metadata": {},
     "output_type": "display_data"
    }
   ],
   "source": [
    "show_video()"
   ]
  },
  {
   "cell_type": "code",
   "execution_count": 22,
   "metadata": {},
   "outputs": [
    {
     "data": {
      "text/plain": [
       "2026.4323709130028"
      ]
     },
     "execution_count": 22,
     "metadata": {},
     "output_type": "execute_result"
    }
   ],
   "source": [
    "statistics.mean(eval_scores)"
   ]
  }
 ],
 "metadata": {
  "accelerator": "GPU",
  "colab": {
   "collapsed_sections": [],
   "name": "Cao_Bo_112130213_discrete.ipynb",
   "provenance": []
  },
  "kernelspec": {
   "display_name": "Python 3",
   "language": "python",
   "name": "python3"
  },
  "language_info": {
   "codemirror_mode": {
    "name": "ipython",
    "version": 3
   },
   "file_extension": ".py",
   "mimetype": "text/x-python",
   "name": "python",
   "nbconvert_exporter": "python",
   "pygments_lexer": "ipython3",
   "version": "3.7.6"
  }
 },
 "nbformat": 4,
 "nbformat_minor": 1
}
