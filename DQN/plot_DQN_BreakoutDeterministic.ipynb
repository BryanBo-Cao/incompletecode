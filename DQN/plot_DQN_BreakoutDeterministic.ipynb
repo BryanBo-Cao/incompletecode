{
 "cells": [
  {
   "cell_type": "code",
   "execution_count": 42,
   "metadata": {},
   "outputs": [],
   "source": [
    "# ---------------\n",
    "# All parameters\n",
    "# ---------------\n",
    "class Params:\n",
    "    def __init__(self):\n",
    "        # Paramaters for this experiment\n",
    "        self.exp_id = 'DQN-Beat-Atari-3'\n",
    "        self.env_id = 'BreakoutDeterministic-v4' # 'HalfCheetahMuJoCoEnv-v0' # 'Pendulum-v0' # 'InvertedPendulumMuJoCoEnv-v0' #\n",
    "        self.server_path = '/home/bryanbc/Repos/rl/'\n",
    "        self.hw = 'hw03'\n",
    "        self.video_path = self.server_path + self.hw + '/' + self.exp_id + '/video/'\n",
    "        self.mp4list_path = self.video_path + '*.mp4'\n",
    "        \n",
    "        self.save_model_episode_interval = 50\n",
    "        self.saved_models_path = '/ssd/bryanbc/saved_models/' + self.hw + '/' + self.exp_id\n",
    "        self.train_start_episode = 0\n",
    "        \n",
    "        # Parameters for models\n",
    "        self.learning_rate = 0.001\n",
    "        self.batch_size = 128\n",
    "        self.epsilon = 1.0\n",
    "        self.epsilon_decay = 0.99\n",
    "        self.gamma = 0.99\n",
    "        self.tau   =  0.001 # 0.125\n",
    "        self.max_buffer = 1000000\n",
    "        self.dropout_rate = 0.5\n",
    "        self.sigma = 0.01\n",
    "        \n",
    "        # Parameters for enviroment\n",
    "        self.max_episodes = 5000\n",
    "        self.max_steps = 1000\n",
    "        self.EPS = 0.003\n",
    "        \n",
    "        self.log_path = '/ssd/bryanbc/data/logs/hw/' + self.hw + '/' + self.exp_id + '_' + self.env_id + '-'\n",
    "        \n",
    "PARAMS = Params()"
   ]
  },
  {
   "cell_type": "code",
   "execution_count": 43,
   "metadata": {},
   "outputs": [],
   "source": [
    "# # -------------------------------------------------\n",
    "# #  Write log data for visualization in Tensorboard\n",
    "# # -------------------------------------------------\n",
    "# from tensorboardX import SummaryWriter\n",
    "\n",
    "# class DataLogger():\n",
    "#     def __init__(self):\n",
    "#         self.log_path = PARAMS.log_path\n",
    "#         self.logdir = self.log_path[:-1] + '/runs/'\n",
    "#         self.writer = SummaryWriter(logdir=self.logdir)\n",
    "        \n",
    "#     def write2tb(self):\n",
    "#         # Write log data into tensorboard\n",
    "#         log_file = open((PARAMS.log_path + 'episode_reward.log'), 'r')\n",
    "#         for i, reward in enumerate(log_file):\n",
    "#             # print(\"i: \", i, \" reward: \", reward)\n",
    "#             self.writer.add_scalar('episode_reward', float(reward), i)\n",
    "        \n",
    "\n",
    "# data_logger = DataLogger()\n",
    "# data_logger.write2tb()\n",
    "# print(\"Check tensorboard now.\")"
   ]
  },
  {
   "cell_type": "code",
   "execution_count": 70,
   "metadata": {},
   "outputs": [
    {
     "name": "stdout",
     "output_type": "stream",
     "text": [
      "PARAMS.log_path:  /ssd/bryanbc/data/logs/hw/hw03/DQN-Beat-Atari-3_BreakoutDeterministic-v4-\n"
     ]
    },
    {
     "data": {
      "image/png": "[encoded data removed]",
      "text/plain": [
       "<Figure size 432x288 with 1 Axes>"
      ]
     },
     "metadata": {
      "needs_background": "light"
     },
     "output_type": "display_data"
    },
    {
     "data": {
      "text/plain": [
       "<Figure size 8568x2376 with 0 Axes>"
      ]
     },
     "metadata": {},
     "output_type": "display_data"
    }
   ],
   "source": [
    "# ---------\n",
    "#  Display\n",
    "# ---------\n",
    "import matplotlib.pyplot as plt\n",
    "print(\"PARAMS.log_path: \", PARAMS.log_path)\n",
    "class DataDisplayer():\n",
    "    def __init__(self):\n",
    "        self.log_path = PARAMS.log_path\n",
    "        self.logdir = self.log_path[:-1] + '/runs/'\n",
    "        \n",
    "    def draw(self):\n",
    "        log_file = open((PARAMS.log_path + 'episode_reward.log'), 'r')\n",
    "        x, y = [], []\n",
    "        for i, reward in enumerate(log_file):\n",
    "            # print(\"i: \", i, \" reward: \", reward)\n",
    "            x.append(i + 1)\n",
    "            y.append(float(reward))\n",
    "        # print(\"x: \", x, \" y: \", y)\n",
    "        \n",
    "#         plt.plot(x[:2000], y[:2000])\n",
    "        plt.plot(x, y)\n",
    "#         plt.stackplot(x, y)\n",
    "#         plt.scatter(x, y)\n",
    "        \n",
    "        plt.figure(figsize=(119, 33))\n",
    "        plt.show()\n",
    "\n",
    "data_displayer = DataDisplayer()\n",
    "data_displayer.draw()"
   ]
  },
  {
   "cell_type": "code",
   "execution_count": 63,
   "metadata": {},
   "outputs": [
    {
     "data": {
      "image/png": "[encoded data removed]",
      "text/plain": [
       "<Figure size 432x288 with 1 Axes>"
      ]
     },
     "metadata": {
      "needs_background": "light"
     },
     "output_type": "display_data"
    },
    {
     "data": {
      "text/plain": [
       "<Figure size 8568x2376 with 0 Axes>"
      ]
     },
     "metadata": {},
     "output_type": "display_data"
    }
   ],
   "source": [
    "# ---------\n",
    "#  Display\n",
    "# ---------\n",
    "import matplotlib.pyplot as plt\n",
    "import numpy as np\n",
    "\n",
    "n_avg = 10\n",
    "class DataDisplayer():\n",
    "    def __init__(self):\n",
    "        self.log_path = PARAMS.log_path\n",
    "        \n",
    "    def draw(self):\n",
    "        log_file = open((PARAMS.log_path + 'episode_reward.log'), 'r')\n",
    "        x, y, y_ten_mean = [], [], []\n",
    "        for i, reward in enumerate(log_file):\n",
    "            # print(\"i: \", i, \" reward: \", reward)\n",
    "            y.append(float(reward))\n",
    "            if i > n_avg:\n",
    "                x.append(i + 1)\n",
    "                y_ten_mean.append(np.mean(y[-n_avg:]))\n",
    "        # print(\"x: \", x, \" y: \", y)\n",
    "        plt.plot(x, y_ten_mean)\n",
    "        plt.figure(figsize=(119, 33))\n",
    "        plt.show()\n",
    "\n",
    "data_displayer = DataDisplayer()\n",
    "data_displayer.draw()"
   ]
  },
  {
   "cell_type": "markdown",
   "metadata": {},
   "source": [
    "https://github.com/IntoxicatedDING/DQN-Beat-Atari"
   ]
  },
  {
   "cell_type": "code",
   "execution_count": null,
   "metadata": {},
   "outputs": [],
   "source": []
  }
 ],
 "metadata": {
  "kernelspec": {
   "display_name": "Python 3",
   "language": "python",
   "name": "python3"
  },
  "language_info": {
   "codemirror_mode": {
    "name": "ipython",
    "version": 3
   },
   "file_extension": ".py",
   "mimetype": "text/x-python",
   "name": "python",
   "nbconvert_exporter": "python",
   "pygments_lexer": "ipython3",
   "version": "3.7.6"
  }
 },
 "nbformat": 4,
 "nbformat_minor": 2
}
