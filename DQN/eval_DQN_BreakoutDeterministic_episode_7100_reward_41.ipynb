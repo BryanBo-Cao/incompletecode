{
 "cells": [
  {
   "cell_type": "markdown",
   "metadata": {
    "colab_type": "text",
    "id": "gA8FHJqiMgOo"
   },
   "source": [
    "## **OpenAI Gym, PyBullet and PyBulletGym Installation**\n",
    "[Click here to see Gym documentaion](https://gym.openai.com/docs/)\n",
    "\n",
    "[Click here to see PyBullet documentaion](https://docs.google.com/document/d/10sXEhzFRSnvFcl3XxNGhnD4N2SedqwdAvK3dsihxVUA)\n",
    "\n",
    "[Click here to see PyBulletGym page](https://github.com/benelot/pybullet-gym)\n",
    "\n"
   ]
  },
  {
   "cell_type": "markdown",
   "metadata": {
    "colab_type": "text",
    "id": "C1LashLPkqYx"
   },
   "source": [
    "Note that this assignment was done in a remote server."
   ]
  },
  {
   "cell_type": "markdown",
   "metadata": {
    "colab_type": "text",
    "id": "nipCFbQpMu8h"
   },
   "source": [
    "**Before we start, first update the apt-get tool in the given machine.**"
   ]
  },
  {
   "cell_type": "code",
   "execution_count": 1,
   "metadata": {},
   "outputs": [
    {
     "name": "stdout",
     "output_type": "stream",
     "text": [
      "3.7.4 (default, Aug 13 2019, 20:35:49) \n",
      "[GCC 7.3.0]\n"
     ]
    }
   ],
   "source": [
    "import sys\n",
    "print(sys.version)"
   ]
  },
  {
   "cell_type": "code",
   "execution_count": 2,
   "metadata": {
    "colab": {
     "base_uri": "https://localhost:8080/",
     "height": 238
    },
    "colab_type": "code",
    "id": "zViYHb_7C2fi",
    "outputId": "66c01425-b9aa-4981-be6c-787d632d7024"
   },
   "outputs": [],
   "source": [
    "# !apt-get update"
   ]
  },
  {
   "cell_type": "markdown",
   "metadata": {
    "colab_type": "text",
    "id": "6x2LqNwbMFww"
   },
   "source": [
    "Most of the requirements of python packages are already fulfilled on Colab. To run Gym, you have to install prerequisites like xvbf,opengl & other python-dev packages using the following codes."
   ]
  },
  {
   "cell_type": "code",
   "execution_count": 3,
   "metadata": {
    "colab": {
     "base_uri": "https://localhost:8080/",
     "height": 408
    },
    "colab_type": "code",
    "id": "EY1Z1npZC5fo",
    "outputId": "026f6bb0-04e3-4651-8c48-5095b4046b33"
   },
   "outputs": [],
   "source": [
    "# !pip install gym\n",
    "# !apt-get install python-opengl -y\n",
    "# !apt install xvfb -y"
   ]
  },
  {
   "cell_type": "markdown",
   "metadata": {
    "colab_type": "text",
    "id": "fH-G48ZaSlFO"
   },
   "source": [
    "For rendering environment, you can use pyvirtualdisplay. So fulfill that"
   ]
  },
  {
   "cell_type": "code",
   "execution_count": 4,
   "metadata": {
    "colab": {
     "base_uri": "https://localhost:8080/",
     "height": 187
    },
    "colab_type": "code",
    "id": "RD8I53YpC92T",
    "outputId": "50692931-75b4-4969-9b32-77c92d46cb61"
   },
   "outputs": [],
   "source": [
    "# !pip install pyvirtualdisplay\n",
    "# !pip install piglet"
   ]
  },
  {
   "cell_type": "code",
   "execution_count": 5,
   "metadata": {
    "colab": {
     "base_uri": "https://localhost:8080/",
     "height": 34
    },
    "colab_type": "code",
    "id": "5-z6FT2NYzXE",
    "outputId": "bc8cd11d-00dd-42ac-e40f-67156fa99cdb"
   },
   "outputs": [],
   "source": [
    "# !pip install pybullet==2.5.9"
   ]
  },
  {
   "cell_type": "code",
   "execution_count": 6,
   "metadata": {
    "colab": {},
    "colab_type": "code",
    "id": "HHwqCuAVDrn9"
   },
   "outputs": [],
   "source": [
    "# !git clone https://github.com/benelot/pybullet-gym.git # should already be there in my Google Drive"
   ]
  },
  {
   "cell_type": "markdown",
   "metadata": {
    "colab_type": "text",
    "id": "oXc2n4nNaeU6"
   },
   "source": [
    "## **Update the source code**\n",
    "In pybulletgym/envs/mujoco/envs/pendulum/inverted_pendulum_env.py, line 32, change\n",
    "\n",
    "done = not np.isfinite(state).all() or np.abs(state[1]) > .2\n",
    "\n",
    "to\n",
    "\n",
    "done = abs(state[0][0]) > 2.4 or abs(state[0][1]) > 0.27\n",
    "\n",
    "**Restart runtime and run the following cells.**"
   ]
  },
  {
   "cell_type": "code",
   "execution_count": 7,
   "metadata": {
    "colab": {},
    "colab_type": "code",
    "id": "_GVojhyza7Nz"
   },
   "outputs": [],
   "source": [
    "# cd /content/pybullet-gym/ # use the address below instead"
   ]
  },
  {
   "cell_type": "code",
   "execution_count": 8,
   "metadata": {
    "colab": {
     "base_uri": "https://localhost:8080/",
     "height": 34
    },
    "colab_type": "code",
    "id": "7uSrlp8xatq_",
    "outputId": "864bb347-69b1-4dac-da0b-275f5fbefe54"
   },
   "outputs": [],
   "source": [
    "# cd './pybullet-gym'"
   ]
  },
  {
   "cell_type": "code",
   "execution_count": 9,
   "metadata": {
    "colab": {
     "base_uri": "https://localhost:8080/",
     "height": 136
    },
    "colab_type": "code",
    "id": "-gEJuj5LDxL0",
    "outputId": "66e73ccd-bc5f-4d57-cd55-0c8f28709a59"
   },
   "outputs": [],
   "source": [
    "# !pip install -e ."
   ]
  },
  {
   "cell_type": "markdown",
   "metadata": {},
   "source": [
    "# Tensorflow version: 1.13.1"
   ]
  },
  {
   "cell_type": "code",
   "execution_count": 10,
   "metadata": {},
   "outputs": [],
   "source": [
    "# !pip install tensorflow==1.13.1"
   ]
  },
  {
   "cell_type": "markdown",
   "metadata": {
    "colab_type": "text",
    "id": "uZVlna0dTh3N"
   },
   "source": [
    "Import everything."
   ]
  },
  {
   "cell_type": "code",
   "execution_count": 11,
   "metadata": {
    "colab": {},
    "colab_type": "code",
    "id": "zuMjm4mjC_9T"
   },
   "outputs": [
    {
     "name": "stderr",
     "output_type": "stream",
     "text": [
      "Using TensorFlow backend.\n",
      "/home/bryanbc/Apps/anaconda3/lib/python3.7/site-packages/tensorflow/python/framework/dtypes.py:526: FutureWarning: Passing (type, 1) or '1type' as a synonym of type is deprecated; in a future version of numpy, it will be understood as (type, (1,)) / '(1,)type'.\n",
      "  _np_qint8 = np.dtype([(\"qint8\", np.int8, 1)])\n",
      "/home/bryanbc/Apps/anaconda3/lib/python3.7/site-packages/tensorflow/python/framework/dtypes.py:527: FutureWarning: Passing (type, 1) or '1type' as a synonym of type is deprecated; in a future version of numpy, it will be understood as (type, (1,)) / '(1,)type'.\n",
      "  _np_quint8 = np.dtype([(\"quint8\", np.uint8, 1)])\n",
      "/home/bryanbc/Apps/anaconda3/lib/python3.7/site-packages/tensorflow/python/framework/dtypes.py:528: FutureWarning: Passing (type, 1) or '1type' as a synonym of type is deprecated; in a future version of numpy, it will be understood as (type, (1,)) / '(1,)type'.\n",
      "  _np_qint16 = np.dtype([(\"qint16\", np.int16, 1)])\n",
      "/home/bryanbc/Apps/anaconda3/lib/python3.7/site-packages/tensorflow/python/framework/dtypes.py:529: FutureWarning: Passing (type, 1) or '1type' as a synonym of type is deprecated; in a future version of numpy, it will be understood as (type, (1,)) / '(1,)type'.\n",
      "  _np_quint16 = np.dtype([(\"quint16\", np.uint16, 1)])\n",
      "/home/bryanbc/Apps/anaconda3/lib/python3.7/site-packages/tensorflow/python/framework/dtypes.py:530: FutureWarning: Passing (type, 1) or '1type' as a synonym of type is deprecated; in a future version of numpy, it will be understood as (type, (1,)) / '(1,)type'.\n",
      "  _np_qint32 = np.dtype([(\"qint32\", np.int32, 1)])\n",
      "/home/bryanbc/Apps/anaconda3/lib/python3.7/site-packages/tensorflow/python/framework/dtypes.py:535: FutureWarning: Passing (type, 1) or '1type' as a synonym of type is deprecated; in a future version of numpy, it will be understood as (type, (1,)) / '(1,)type'.\n",
      "  np_resource = np.dtype([(\"resource\", np.ubyte, 1)])\n"
     ]
    },
    {
     "name": "stdout",
     "output_type": "stream",
     "text": [
      "WARNING:tensorflow:From /home/bryanbc/Apps/anaconda3/lib/python3.7/site-packages/tensorflow/python/compat/compat.py:175: disable_resource_variables (from tensorflow.python.ops.variable_scope) is deprecated and will be removed in a future version.\n",
      "Instructions for updating:\n",
      "non-resource variables are not supported in the long term\n",
      "config:  gpu_options {\n",
      "  allow_growth: true\n",
      "}\n",
      "\n"
     ]
    }
   ],
   "source": [
    "from __future__ import division\n",
    "import gym\n",
    "from gym import logger as gymlogger\n",
    "from gym.wrappers import Monitor\n",
    "gymlogger.set_level(40) # error only\n",
    "\n",
    "import pybulletgym  # register PyBullet enviroments with open ai gym\n",
    "import pybullet\n",
    "import pybullet_data\n",
    "\n",
    "import numpy as np\n",
    "import random\n",
    "import matplotlib\n",
    "import matplotlib.pyplot as plt\n",
    "%matplotlib inline\n",
    "import math\n",
    "import glob\n",
    "import io\n",
    "import base64\n",
    "import os\n",
    "from os import path\n",
    "import copy\n",
    "import hickle as hkl\n",
    "\n",
    "from IPython.display import HTML\n",
    "from IPython import display as ipythondisplay\n",
    "\n",
    "from collections import namedtuple\n",
    "from itertools import count\n",
    "from PIL import Image\n",
    "import shutil\n",
    "import gym\n",
    "import psutil\n",
    "import gc\n",
    "import statistics\n",
    "import cv2\n",
    "\n",
    "from keras.models import Sequential, Model, load_model\n",
    "from keras.layers import Dense, Dropout, Input, BatchNormalization, \\\n",
    "                            Reshape, Flatten, Activation, ZeroPadding2D, \\\n",
    "                            Lambda, Convolution2D\n",
    "from keras.layers.merge import Add, Multiply\n",
    "from keras.optimizers import Adam\n",
    "# import keras.backend as K\n",
    "\n",
    "from keras.layers.advanced_activations import LeakyReLU\n",
    "from keras.layers.convolutional import UpSampling2D, Conv2D\n",
    "from keras.engine.topology import Layer\n",
    "from keras import optimizers\n",
    "from keras import initializers\n",
    "\n",
    "import tensorflow.compat.v1 as tf\n",
    "tf.disable_v2_behavior()\n",
    "from collections import deque\n",
    "\n",
    "# use plaidml as backend\n",
    "# install plaidml:\n",
    "# pip install plaidml-keras\n",
    "# plaidml-setup\n",
    "# ======================================================\n",
    "os.environ[\"KERAS_BACKEND\"] = \"plaidml.keras.backend\"\n",
    "# ======================================================\n",
    "from keras import backend as K\n",
    "# from tensorflow.keras import backend as K\n",
    "from tensorflow.python.keras import backend as k\n",
    "# use tensorflow as backend\n",
    "# ======================================================\n",
    "# import tensorflow as tf\n",
    "os.environ['CUDA_VISIBLE_DEVICES'] = '1'\n",
    "# config = tf.compat.v1.ConfigProto() # for Tensorflow 2.1\n",
    "config = tf.ConfigProto() # for Tensorflow 1.13.1\n",
    "config.gpu_options.allow_growth = True\n",
    "print(\"config: \", config)\n",
    "\n",
    "# tf.compat.v1.keras.backend.set_session(tf.compat.v1.Session(config=config)) # for Tensorflow 2.1\n",
    "K.set_session(tf.Session(config=config)) # for Tensorflow 1.13.1\n",
    "# ======================================================"
   ]
  },
  {
   "cell_type": "markdown",
   "metadata": {},
   "source": [
    "# All Parameters"
   ]
  },
  {
   "cell_type": "code",
   "execution_count": 12,
   "metadata": {},
   "outputs": [],
   "source": [
    "# ---------------\n",
    "# All parameters\n",
    "# ---------------\n",
    "class Params:\n",
    "    def __init__(self):\n",
    "        # Paramaters for this experiment\n",
    "        self.exp_id = 'DQN_bk_smer_4' # bk: Breakout, smer: save max episode reward\n",
    "        self.env_id = 'BreakoutDeterministic-v4'# 'BreakoutNoFrameskip-v4'\n",
    "        self.server_path = '/home/bryanbc/Repos/rl/'\n",
    "        self.hw = 'hw03'\n",
    "        self.video_path = self.server_path + self.hw + '/' + self.exp_id + '/video/'\n",
    "        self.mp4list_path = self.video_path + '*.mp4'\n",
    "        \n",
    "        # Parameters for enviroment\n",
    "        self.seed_num = 123\n",
    "        self.n_actions = 4\n",
    "        self.s_len = 4\n",
    "        self.input_shape = (None, 93, 80, self.s_len)\n",
    "        self.init_epsilon = 1.\n",
    "        self.final_epsilon = 0.01\n",
    "        self.epsilon = copy.deepcopy(self.init_epsilon)\n",
    "        self.max_episodes = 10000000\n",
    "        self.max_steps = 1000\n",
    "        self.exploration_steps = 500000\n",
    "        self.cnt_frames = 0\n",
    "        self.max_episode_reward = 0\n",
    "        \n",
    "        # Parameters for models\n",
    "        self.init_learning_rate = 1e-4\n",
    "        self.final_learning_rate = 5e-6\n",
    "        self.learning_rate = copy.deepcopy(self.init_learning_rate)\n",
    "        self.learning_rate_decay_step = 0\n",
    "        self.batch_size = 32\n",
    "        self.gamma = 0.99\n",
    "        self.tau   =  0.001\n",
    "        self.buffer_size = 500000\n",
    "        \n",
    "        self.train_frame_interval = 4\n",
    "        self.update_target_network_episode_interval = 40\n",
    "        self.save_model_episode_interval = 500\n",
    "        self.episode_i = 0\n",
    "        \n",
    "        # saved models paths\n",
    "        self.saved_models_path = '/ssd/bryanbc/saved_models/' + self.hw + '/' + self.exp_id\n",
    "        self.saved_train_network_filepath = '%s/train_network_episode_%d.h5' % \\\n",
    "            (self.saved_models_path, self.episode_i)\n",
    "        self.saved_target_network_filepath = '%s/target_network_episode_%d.h5' % \\\n",
    "            (self.saved_models_path, self.episode_i)\n",
    "        self.saved_PARAMS_filepath = '%s/PARAMS_episode_%d.hkl' % \\\n",
    "            (self.saved_models_path, self.episode_i)\n",
    "        \n",
    "        # saved log path\n",
    "        self.log_path = '/ssd/bryanbc/data/logs/hw/' + self.hw + '/'\n",
    "        os.makedirs((self.log_path), exist_ok=True)\n",
    "        self.log_filepath = self.log_path + self.exp_id + '_episode_reward.log'\n",
    "        # Open the log file\n",
    "        self.log_file = open((self.log_filepath), 'a')\n",
    "        \n",
    "        # saved replay buffer path\n",
    "        # self.replay_buffer_path = self.saved_models_path + '/'\n",
    "        # os.makedirs((self.replay_buffer_path), exist_ok=True)\n",
    "        # self.saved_replay_buffer_filepath = self.replay_buffer_path + self.exp_id + '_replay_buffer_gzip.hkl'\n",
    "        \n",
    "    def load(self, load_PARAMS):\n",
    "        self.epsilon, self.learning_rate, \\\n",
    "            self.learning_rate_decay_step, self.cnt_frames, \\\n",
    "            self.episode_i, self.max_episode_reward = load_PARAMS\n",
    "        \n",
    "PARAMS = Params()"
   ]
  },
  {
   "cell_type": "markdown",
   "metadata": {},
   "source": [
    "# Utility"
   ]
  },
  {
   "cell_type": "code",
   "execution_count": 13,
   "metadata": {},
   "outputs": [],
   "source": [
    "def dense_to_one_hot(data, depth=10):\n",
    "    return (np.arange(depth) == np.array(data)[:, None]).astype(np.bool)\n",
    "\n",
    "\n",
    "def rgb2gray(im):\n",
    "    return (cv2.cvtColor(im, cv2.COLOR_BGR2GRAY)).astype(np.uint8)\n",
    "\n",
    "\n",
    "def down_sample(gray):\n",
    "    return gray[25::2, ::2]\n",
    "\n",
    "\n",
    "class LayerNormalization(Layer):\n",
    "\n",
    "    def __init__(self, eps=1e-5, activation=None, **kwargs):\n",
    "        self.eps = eps\n",
    "        self.channels = None\n",
    "        self.activation = activation\n",
    "        super(LayerNormalization, self).__init__(**kwargs)\n",
    "\n",
    "    def build(self, input_shape):\n",
    "        self.channels = input_shape[-1]\n",
    "        shape = [1] * (len(input_shape) - 1)\n",
    "        shape.append(self.channels)\n",
    "        self.add_weight('gamma', shape, dtype='float32', initializer='ones')\n",
    "        self.add_weight('beta', shape, dtype='float32', initializer='zeros')\n",
    "\n",
    "        super(LayerNormalization, self).build(input_shape)  # Be sure to call this somewhere!\n",
    "\n",
    "    def call(self, inputs, **kwargs):\n",
    "        dim = len(K.int_shape(inputs)) - 1\n",
    "        mean = K.mean(inputs, axis=dim, keepdims=True)\n",
    "        var = K.mean(K.square(inputs - mean), axis=dim, keepdims=True)\n",
    "        outputs = (inputs - mean) / K.sqrt(var + self.eps)\n",
    "        outputs = outputs * self.trainable_weights[0] + self.trainable_weights[1]\n",
    "        if self.activation is None:\n",
    "            return outputs\n",
    "        else:\n",
    "            return self.activation(outputs)"
   ]
  },
  {
   "cell_type": "markdown",
   "metadata": {
    "colab_type": "text",
    "id": "JxGb76TexllA"
   },
   "source": [
    "# **RL Algorithms**\n",
    "Code based: https://github.com/IntoxicatedDING/DQN-Beat-Atari."
   ]
  },
  {
   "cell_type": "markdown",
   "metadata": {},
   "source": [
    "# DQN Network"
   ]
  },
  {
   "cell_type": "code",
   "execution_count": 14,
   "metadata": {},
   "outputs": [],
   "source": [
    "class Agent:\n",
    "    def __init__(self):\n",
    "        self.replay_buffer = deque()\n",
    "        self.q_out, self.train_network = Agent.build_train_network()\n",
    "        self.target_network = Agent.build_target_network()\n",
    "\n",
    "        # self.opt = optimizers.rmsprop(lr=self.learning_rate, rho=0.95)\n",
    "        self.opt = optimizers.adam(lr=PARAMS.learning_rate)\n",
    "        # self.opt = optimizers.RMSprop(lr=self.learning_rate, rho=0.95, epsilon=0.01)\n",
    "        self.train_network.compile(optimizer=self.opt, loss=[Agent.huber_loss])\n",
    "\n",
    "    # Append a transition (s, a, s_, r, done) into replay buffer\n",
    "    def remember(self, transition):\n",
    "        if len(self.replay_buffer) >= PARAMS.buffer_size:\n",
    "            self.replay_buffer.popleft()\n",
    "        self.replay_buffer.append(transition)\n",
    "        return self.replay_buffer\n",
    "\n",
    "    def sample_batch(self):\n",
    "        # Sample a batch of transitions from replay buffer\n",
    "        batch_q, batch_state, batch_mask, states_next, rewards, done =\\\n",
    "            map(lambda x: np.array(list(x)), zip(*random.sample(self.replay_buffer, PARAMS.batch_size)))\n",
    "        \n",
    "        batch_state = np.transpose(batch_state, axes=[0, 2, 3, 1])\n",
    "        states_next = np.transpose(states_next, axes=[0, 2, 3, 1])\n",
    "        batch_mask = dense_to_one_hot(batch_mask, PARAMS.n_actions)\n",
    "        q_next = self.target_network.predict(states_next)\n",
    "        batch_q[batch_mask] = np.array(rewards) + PARAMS.gamma * np.array(done) * np.max(q_next, axis=1)\n",
    "        return batch_q, batch_state, batch_mask\n",
    "\n",
    "    def build_train_network():\n",
    "        X = Input(shape=PARAMS.input_shape[1:], dtype='float32')\n",
    "        mask = Input(shape=(PARAMS.n_actions,), dtype='float32')\n",
    "        q_out, model = Agent.build_network(X)\n",
    "        q_ = Lambda(lambda x: K.reshape(K.sum(x * mask, axis=1), (-1, 1)), output_shape=(1,))(q_out)\n",
    "        return K.function([X], [q_out]), Model(inputs=[X, mask], outputs=q_)\n",
    "\n",
    "    def huber_loss(x, y):\n",
    "        error = K.abs(x - y)\n",
    "        quadratic_part = K.clip(error, 0.0, 1.0)\n",
    "        linear_part = error - quadratic_part\n",
    "        loss = K.mean(0.5 * K.square(quadratic_part) + linear_part, axis=-1)\n",
    "        return loss\n",
    "\n",
    "    def build_target_network():\n",
    "        X = Input(shape=PARAMS.input_shape[1:], dtype='float32')\n",
    "        Q, model = Agent.build_network(X, trainable=False, init=initializers.zeros())\n",
    "        return model\n",
    "\n",
    "    def build_network(X, trainable=True, init=initializers.truncated_normal(stddev=0.01)):\n",
    "        init_w = init\n",
    "        init_b = initializers.constant(0.)\n",
    "        normed = Lambda(lambda x: x / 255., output_shape=K.int_shape(X)[1:])(X)\n",
    "        h_conv1 = Convolution2D(32, (8, 8), strides=(4, 4),\n",
    "                                kernel_initializer=init_w, use_bias=False, padding='same')(normed)\n",
    "        h_ln1 = LayerNormalization(activation=K.relu)(h_conv1)\n",
    "        h_conv2 = Convolution2D(64, (4, 4), strides=(2, 2),\n",
    "                                kernel_initializer=init_w, use_bias=False, padding='same')(h_ln1)\n",
    "        h_ln2 = LayerNormalization(activation=K.relu)(h_conv2)\n",
    "        h_conv3 = Convolution2D(64, (3, 3), strides=(1, 1),\n",
    "                                kernel_initializer=init_w, use_bias=False, padding='same')(h_ln2)\n",
    "        h_ln3 = LayerNormalization(activation=K.relu)(h_conv3)\n",
    "        h_flat = Flatten()(h_ln3)\n",
    "        fc1 = Dense(512, use_bias=False, kernel_initializer=init_w)(h_flat)\n",
    "        h_ln_fc1 = LayerNormalization(activation=K.relu)(fc1)\n",
    "        q = Dense(PARAMS.n_actions, kernel_initializer=init_w, use_bias=False, bias_initializer=init_b)(h_ln_fc1)\n",
    "        # q = LayerNormalization()(fc2)\n",
    "        model = Model(inputs=X, outputs=q)\n",
    "        model.trainable = trainable\n",
    "        return q, model\n",
    "\n",
    "    def train(self):\n",
    "        batch_q, batch_state, batch_mask = self.sample_batch()\n",
    "        self.train_network.fit([batch_state, batch_mask], np.sum(batch_mask * batch_q, axis=1), verbose=0)\n",
    "\n",
    "    def update_epsilon(self):\n",
    "        PARAMS.epsilon = np.maximum(PARAMS.final_epsilon,\n",
    "                                  PARAMS.epsilon - (PARAMS.init_epsilon - PARAMS.final_epsilon) / PARAMS.exploration_steps)\n",
    "\n",
    "    def predict(self, state):\n",
    "        q = self.q_out([state])\n",
    "        q = np.array(q).flatten()\n",
    "        # print(np.argmax(q))\n",
    "        # print(q)\n",
    "        return q, np.argmax(q)\n",
    "\n",
    "    def update_learning_rate(self):\n",
    "        PARAMS.learning_rate = PARAMS.learning_rate * (0.99 ** (PARAMS.learning_rate_decay_step / 100))\n",
    "        K.set_value(self.train_network.optimizer.lr, PARAMS.learning_rate)\n",
    "        PARAMS.learning_rate_decay_step += 1\n",
    "\n",
    "    def update_target_network(self):\n",
    "        self.target_network.set_weights(self.train_network.get_weights())\n",
    "\n",
    "    # Save model weights and PARAMS\n",
    "    def save(self, best=False):\n",
    "        os.makedirs((PARAMS.saved_models_path), exist_ok=True)\n",
    "        \n",
    "        # Update file paths\n",
    "        if best:\n",
    "            PARAMS.saved_train_network_filepath = '%s/train_network_episode_%d_max_r_%d_best.h5' % \\\n",
    "                (PARAMS.saved_models_path, PARAMS.episode_i, PARAMS.max_episode_reward)\n",
    "            PARAMS.saved_target_network_filepath = '%s/target_network_episode_%d_max_r_%d_best.h5' % \\\n",
    "                (PARAMS.saved_models_path, PARAMS.episode_i, PARAMS.max_episode_reward)\n",
    "            PARAMS.saved_PARAMS_filepath = '%s/PARAMS_episode_%d_max_r_%d_best.hkl' % \\\n",
    "                (PARAMS.saved_models_path, PARAMS.episode_i, PARAMS.max_episode_reward)\n",
    "            # PARAMS.saved_replay_buffer_filepath = '%s/replay_buffer_episode_%d_max_r_%d_best.hkl' % \\\n",
    "            #     (PARAMS.saved_models_path, PARAMS.episode_i, PARAMS.max_episode_reward)\n",
    "        else:\n",
    "            PARAMS.saved_train_network_filepath = '%s/train_network_episode_%d.h5' % \\\n",
    "                (PARAMS.saved_models_path, PARAMS.episode_i)\n",
    "            PARAMS.saved_target_network_filepath = '%s/target_network_episode_%d.h5' % \\\n",
    "                (PARAMS.saved_models_path, PARAMS.episode_i)\n",
    "            # PARAMS.saved_PARAMS_filepath = '%s/PARAMS_episode_%d.hkl' % \\\n",
    "            #     (PARAMS.saved_models_path, PARAMS.episode_i)\n",
    "            # PARAMS.saved_replay_buffer_filepath = '%s/replay_buffer_episode_%d.hkl' % \\\n",
    "            #     (PARAMS.saved_models_path, PARAMS.episode_i)\n",
    "        \n",
    "        self.train_network.save_weights(PARAMS.saved_train_network_filepath)\n",
    "        self.target_network.save_weights(PARAMS.saved_target_network_filepath)\n",
    "        \n",
    "        # Parameters to save\n",
    "        save_PARAMS = (PARAMS.epsilon,\n",
    "                       PARAMS.learning_rate,\n",
    "                       PARAMS.learning_rate_decay_step,\n",
    "                       PARAMS.cnt_frames,\n",
    "                       PARAMS.episode_i,\n",
    "                       PARAMS.max_episode_reward)\n",
    "        hkl.dump(save_PARAMS, PARAMS.saved_PARAMS_filepath, mode='w')\n",
    "        \n",
    "        # Save replay buffer\n",
    "        # hkl.dump(self.replay_buffer, PARAMS.saved_replay_buffer_filepath, mode='w', compression='gzip')\n",
    "    \n",
    "    # Load model weights and PARAMS\n",
    "    def restore(self, episode_i, best, max_episode_reward):\n",
    "        if best:\n",
    "            saved_train_network_filepath = '%s/train_network_episode_%d_max_r_%d_best.h5' % \\\n",
    "                (PARAMS.saved_models_path, episode_i, max_episode_reward)\n",
    "            saved_target_network_filepath = '%s/target_network_episode_%d_max_r_%d_best.h5' % \\\n",
    "                (PARAMS.saved_models_path, episode_i, max_episode_reward)\n",
    "            # saved_PARAMS_filepath = '%s/PARAMS_episode_%d_max_r_%d_best.hkl' % \\\n",
    "            #    (PARAMS.saved_models_path, episode_i, max_episode_reward)\n",
    "            # saved_replay_buffer_filepath = '%s/replay_buffer_episode_%d_max_r_%d_best.hkl' % \\\n",
    "            #     (PARAMS.saved_models_path, episode_i, max_episode_reward)\n",
    "        else:\n",
    "            saved_train_network_filepath = '%s/train_network_episode_%d.h5' % \\\n",
    "                (PARAMS.saved_models_path, episode_i)\n",
    "            saved_target_network_filepath = '%s/target_network_episode_%d.h5' % \\\n",
    "                (PARAMS.saved_models_path, episode_i)\n",
    "            # saved_PARAMS_filepath = '%s/PARAMS_episode_%d.hkl' % \\\n",
    "            #    (PARAMS.saved_models_path, episode_i)\n",
    "            # saved_replay_buffer_filepath = '%s/replay_buffer_episode_%d.hkl' % \\\n",
    "            #     (PARAMS.saved_models_path, episode_i)\n",
    "            \n",
    "        print(\"path.exists(saved_train_network_filepath): \", path.exists(saved_train_network_filepath))\n",
    "        print(\"path.exists(saved_target_network_filepath): \", path.exists(saved_target_network_filepath))\n",
    "        # print(\"path.exists(saved_PARAMS_filepath): \", path.exists(saved_PARAMS_filepath))\n",
    "            \n",
    "        if path.exists(saved_train_network_filepath) and \\\n",
    "            path.exists(saved_target_network_filepath):\n",
    "            # path.exists(saved_PARAMS_filepath):\n",
    "            # path.exists(saved_replay_buffer_filepath):\n",
    "            \n",
    "            self.train_network.load_weights(saved_train_network_filepath)\n",
    "            self.target_network.load_weights(saved_target_network_filepath)\n",
    "            \n",
    "            # PARAMS.load(hkl.load(saved_PARAMS_filepath))\n",
    "            \n",
    "            print()\n",
    "            print(\"====== Models and Parameters Loaded! ======\")\n",
    "            print(\"%s and %s loaded!\" % (saved_train_network_filepath,\n",
    "                                             saved_target_network_filepath))\n",
    "            # print(\"%s, %s, and %s loaded!\" % (saved_train_network_filepath,\n",
    "            #                                  saved_target_network_filepath,\n",
    "            #                                  saved_PARAMS_filepath))\n",
    "            print(\"Current PARAMS.epsilon: \", PARAMS.epsilon,\n",
    "                    \" PARAMS.learning_rate: \", PARAMS.learning_rate,\n",
    "                    \" PARAMS.learning_rate_decay_step: \", PARAMS.learning_rate_decay_step,\n",
    "                    \" PARAMS.cnt_frames: \", PARAMS.cnt_frames,\n",
    "                    \" PARAMS.episode_i: \", PARAMS.episode_i,\n",
    "                    \" PARAMS.max_episode_reward: \", PARAMS.max_episode_reward)\n",
    "            \n",
    "            # Load replay buffer\n",
    "            # self.replay_buffer = hkl.load(saved_replay_buffer_filepath)\n",
    "            # print(\"%s loaded!\" % saved_replay_buffer_filepath)\n",
    "            \n",
    "        else:\n",
    "            print(\"====== Saved files not exist. Start from episode 0. ======\")\n",
    "            PARAMS.episode_i = 0        "
   ]
  },
  {
   "cell_type": "markdown",
   "metadata": {},
   "source": [
    "# Display Video"
   ]
  },
  {
   "cell_type": "code",
   "execution_count": 15,
   "metadata": {},
   "outputs": [
    {
     "name": "stdout",
     "output_type": "stream",
     "text": [
      "bash: ../xvfb: No such file or directory\n",
      "env: DISPLAY=:1\n"
     ]
    }
   ],
   "source": [
    "import os\n",
    "if type(os.environ.get(\"DISPLAY\")) is not str or len(os.environ.get(\"DISPLAY\"))==0:\n",
    "    !bash ../xvfb start\n",
    "    %env DISPLAY=:1"
   ]
  },
  {
   "cell_type": "code",
   "execution_count": 16,
   "metadata": {},
   "outputs": [],
   "source": [
    "\"\"\"\n",
    "Utility functions to enable video recording of gym environment and displaying it\n",
    "To enable video, just do \"env = wrap_env(env)\"\"\n",
    "\"\"\"\n",
    "# mp4list_path_colab = '/content/gdrive/My Drive/video/*.mp4'\n",
    "def show_video():\n",
    "    mp4list = glob.glob(PARAMS.mp4list_path) # glob.glob('/content/video/*.mp4')\n",
    "    if len(mp4list) > 0:\n",
    "        mp4 = mp4list[0]\n",
    "        video = io.open(mp4, 'r+b').read()\n",
    "        encoded = base64.b64encode(video)\n",
    "        ipythondisplay.display(HTML(data='''<video alt=\"test\" autoplay \n",
    "                loop controls style=\"height: 400px;\">\n",
    "                <source src=\"data:video/mp4;base64,{0}\" type=\"video/mp4\" />\n",
    "                </video>'''.format(encoded.decode('ascii'))))\n",
    "    else: \n",
    "        print(\"Could not find video\")\n",
    "    \n",
    "# video_path_colab = '/content/gdrive/My Drive/video/'\n",
    "def wrap_env(env):\n",
    "    env = Monitor(env, PARAMS.video_path, force=True) # Monitor(env, '/content/video', force=True)\n",
    "    return env"
   ]
  },
  {
   "cell_type": "markdown",
   "metadata": {},
   "source": [
    "# **Environment**"
   ]
  },
  {
   "cell_type": "code",
   "execution_count": 17,
   "metadata": {},
   "outputs": [
    {
     "name": "stderr",
     "output_type": "stream",
     "text": [
      "/home/bryanbc/Apps/anaconda3/lib/python3.7/site-packages/gym/envs/registration.py:14: PkgResourcesDeprecationWarning: Parameters to load are deprecated.  Call .resolve and .require separately.\n",
      "  result = entry_point.load(False)\n"
     ]
    },
    {
     "name": "stdout",
     "output_type": "stream",
     "text": [
      "s_dim: 210  PARAMS.env.observation_space.shape:  (210, 160, 3)\n",
      "PARAMS.n_actions:  4  PARAMS.env.action_space:  Discrete(4)\n",
      "PARAMS.env.unwrapped.get_action_meanings():  ['NOOP', 'FIRE', 'RIGHT', 'LEFT']\n",
      "PARAMS.env.unwrapped.ale.lives():  5\n"
     ]
    }
   ],
   "source": [
    "# Create Environment\n",
    "PARAMS.env = gym.make(PARAMS.env_id)\n",
    "PARAMS.env = wrap_env(PARAMS.env)\n",
    "# PARAMS.env.seed(PARAMS.seed_num)\n",
    "\n",
    "s_dim = PARAMS.env.observation_space.shape[0]\n",
    "PARAMS.n_actions = PARAMS.env.action_space.n\n",
    "# PARAMS.env.spec.timestep_limit = PARAMS.max_steps - 1\n",
    "\n",
    "print(\"s_dim:\", s_dim, \" PARAMS.env.observation_space.shape: \", PARAMS.env.observation_space.shape)\n",
    "print(\"PARAMS.n_actions: \", PARAMS.n_actions, \" PARAMS.env.action_space: \", PARAMS.env.action_space)\n",
    "# print(\"PARAMS.env.observation_space.high: \", PARAMS.env.observation_space.high)\n",
    "# print(\"PARAMS.env.observation_space.low: \", PARAMS.env.observation_space.low)\n",
    "# print(\"PARAMS.env.action_space.high: \", PARAMS.env.action_space.high)\n",
    "# print(\"PARAMS.env.action_space.low: \", PARAMS.env.action_space.low)\n",
    "print(\"PARAMS.env.unwrapped.get_action_meanings(): \", PARAMS.env.unwrapped.get_action_meanings())\n",
    "print(\"PARAMS.env.unwrapped.ale.lives(): \", PARAMS.env.unwrapped.ale.lives())"
   ]
  },
  {
   "cell_type": "markdown",
   "metadata": {},
   "source": [
    "# Training"
   ]
  },
  {
   "cell_type": "code",
   "execution_count": 18,
   "metadata": {
    "colab": {
     "base_uri": "https://localhost:8080/",
     "height": 761
    },
    "colab_type": "code",
    "id": "3l_Q9c24GQ1M",
    "outputId": "301c1269-e4b3-4739-8e49-3b5e3fc4559e",
    "scrolled": true
   },
   "outputs": [
    {
     "name": "stdout",
     "output_type": "stream",
     "text": [
      "WARNING:tensorflow:From /home/bryanbc/Apps/anaconda3/lib/python3.7/site-packages/tensorflow/python/framework/op_def_library.py:263: colocate_with (from tensorflow.python.framework.ops) is deprecated and will be removed in a future version.\n",
      "Instructions for updating:\n",
      "Colocations handled automatically by placer.\n",
      "path.exists(saved_train_network_filepath):  True\n",
      "path.exists(saved_target_network_filepath):  True\n",
      "\n",
      "====== Models and Parameters Loaded! ======\n",
      "/ssd/bryanbc/saved_models/hw03/DQN_bk_smer_4/train_network_episode_7100.h5 and /ssd/bryanbc/saved_models/hw03/DQN_bk_smer_4/target_network_episode_7100.h5 loaded!\n",
      "Current PARAMS.epsilon:  1.0  PARAMS.learning_rate:  0.0001  PARAMS.learning_rate_decay_step:  0  PARAMS.cnt_frames:  0  PARAMS.episode_i:  0  PARAMS.max_episode_reward:  0\n",
      "\n",
      "====== Start Interacting with Env ======\n"
     ]
    }
   ],
   "source": [
    "### ### Training ###\n",
    "################\n",
    "# Let the agent interact with the environment\n",
    "\n",
    "# Create an instance of DQN Agent.\n",
    "agent = Agent()\n",
    "\n",
    "# -------------\n",
    "# Load weights\n",
    "# -------------------------------------------------------\n",
    "# Need to Specify episode_i, best and max_episode_reward.\n",
    "# If you train the agent from stratch, comment the \n",
    "# following lines of code out.\n",
    "# -------------------------------------------------------\n",
    "episode_i = 7100\n",
    "max_episode_reward = 64 # Any number does not matter if best=False\n",
    "best = False\n",
    "agent.restore(episode_i=episode_i, best=best, max_episode_reward=max_episode_reward)\n",
    "\n",
    "# -----------------------------\n",
    "# Iterate through all episodes\n",
    "# -----------------------------\n",
    "print()\n",
    "print(\"====== Start Interacting with Env ======\")\n",
    "eval_10_episode_rewards = []\n",
    "PARAMS.episode_i = 0\n",
    "\n",
    "# Run the policy evaluation for ten times\n",
    "while PARAMS.episode_i < 10:\n",
    "    obs = PARAMS.env.reset()\n",
    "    frame = down_sample(rgb2gray(obs))\n",
    "    frame_stack = [frame, frame, frame, frame]\n",
    "    episode_reward = 0\n",
    "    pre_lives = 5\n",
    "    \n",
    "    # Iterate through all steps\n",
    "    # for t in range(PARAMS.max_steps):\n",
    "    t = 0\n",
    "    while True:\n",
    "        t += 1\n",
    "        PARAMS.cnt_frames += 1\n",
    "        # s: current state\n",
    "        s = frame_stack[-PARAMS.s_len:]\n",
    "        # q: current q, a: current action\n",
    "        q, a = agent.predict(\\\n",
    "                    np.expand_dims(np.transpose(\\\n",
    "                    s, [1, 2, 0]), axis=0))\n",
    "        \n",
    "        # epsilon probability to take random actions to explore\n",
    "        # if np.random.random() < PARAMS.epsilon:\n",
    "        #    a = PARAMS.env.action_space.sample()\n",
    "        \n",
    "        # live reduced by 1\n",
    "        if t == 1 or pre_lives - PARAMS.env.unwrapped.ale.lives() == 1:\n",
    "            a = 1 # 'FIRE'\n",
    "            pre_lives = PARAMS.env.unwrapped.ale.lives()\n",
    "            \n",
    "        # print(\"t: \", t, \" a: \", a)\n",
    "        \n",
    "        # One Step\n",
    "        obs, r, done, info = PARAMS.env.step(a) \n",
    "        # r: immediate reward, done: terminal state indicator\n",
    "        \n",
    "        next_frame = down_sample(rgb2gray(obs))\n",
    "        frame_stack.append(next_frame)\n",
    "        # s_: next state\n",
    "        s_ = frame_stack[-PARAMS.s_len:]\n",
    "        \n",
    "        '''\n",
    "        transition = (q, s, a, s_, r, int(not done))\n",
    "        # Append a transition into replay buffer\n",
    "        agent.remember(transition)\n",
    "        \n",
    "        if len(agent.replay_buffer) >= PARAMS.batch_size and \\\n",
    "            PARAMS.cnt_frames % PARAMS.train_frame_interval == 0:\n",
    "            agent.train()\n",
    "            agent.update_epsilon()\n",
    "        '''\n",
    "        \n",
    "        frame_stack = frame_stack[-PARAMS.s_len:]\n",
    "        \n",
    "        episode_reward += r\n",
    "        \n",
    "        if done:\n",
    "            break\n",
    "    # -------------------\n",
    "    # End of one episode\n",
    "    # -------------------\n",
    "    \n",
    "    eval_10_episode_rewards.append(episode_reward)\n",
    "    \n",
    "    # print(\"PARAMS.episode_i: \", PARAMS.episode_i, \"episode reward: \", episode_reward, \" Episode finished after {} timesteps\".format(t+1))\n",
    "    '''\n",
    "    # -------------------\n",
    "    # Log episode reward\n",
    "    # -------------------\n",
    "    PARAMS.log_file.write(str(episode_reward) + '\\n')\n",
    "    PARAMS.log_file.flush()\n",
    "    print(\"PARAMS.episode_i: \", PARAMS.episode_i, \"episode reward: \", episode_reward, \" Episode finished after {} timesteps\".format(t+1) + \"\\n\"\\\n",
    "          \"    PARAMS.epsilon: \", PARAMS.epsilon, \" PARAMS.learning_rate: \", PARAMS.learning_rate)\n",
    "    \n",
    "    # Update PARAMS.learning_rate\n",
    "    if np.abs(PARAMS.epsilon - PARAMS.final_epsilon) < 1e-5 and PARAMS.learning_rate > PARAMS.final_learning_rate:\n",
    "        agent.update_learning_rate()\n",
    "        # print(\"agent.update_learning_rate() Done!\")\n",
    "    # Update target network\n",
    "    if PARAMS.episode_i % PARAMS.update_target_network_episode_interval == 0:\n",
    "        agent.update_target_network()\n",
    "        # print(\"agent.update_target_network() Done!\")\n",
    "        \n",
    "    # ------------------------------\n",
    "    # Save model weights and PARAMS\n",
    "    # ------------------------------\n",
    "    if episode_reward > PARAMS.max_episode_reward:\n",
    "        PARAMS.max_episode_reward = episode_reward\n",
    "        agent.save(best=True)\n",
    "        print(\"PARAMS.max_episode_reward: \", PARAMS.max_episode_reward, \" agent.save() Done!\")\n",
    "    elif PARAMS.episode_i % PARAMS.save_model_episode_interval == 0:\n",
    "        agent.save()\n",
    "        print(\"agent.save() Done!\")\n",
    "    '''\n",
    "        \n",
    "    PARAMS.episode_i += 1\n",
    "    \n",
    "PARAMS.env.close()"
   ]
  },
  {
   "cell_type": "code",
   "execution_count": 19,
   "metadata": {},
   "outputs": [
    {
     "data": {
      "text/plain": [
       "42.0"
      ]
     },
     "execution_count": 19,
     "metadata": {},
     "output_type": "execute_result"
    }
   ],
   "source": [
    "np.mean(eval_10_episode_rewards)"
   ]
  },
  {
   "cell_type": "code",
   "execution_count": 20,
   "metadata": {},
   "outputs": [
    {
     "data": {
      "text/html": [
       "<video alt=\"test\" autoplay \n",
       "                loop controls style=\"height: 400px;\">\n",
       "                <source src=\"data:video/mp4;base64,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\" type=\"video/mp4\" />\n",
       "                </video>"
      ],
      "text/plain": [
       "<IPython.core.display.HTML object>"
      ]
     },
     "metadata": {},
     "output_type": "display_data"
    }
   ],
   "source": [
    "show_video()"
   ]
  }
 ],
 "metadata": {
  "accelerator": "GPU",
  "colab": {
   "collapsed_sections": [],
   "name": "Cao_Bo_112130213_discrete.ipynb",
   "provenance": []
  },
  "kernelspec": {
   "display_name": "Python 3",
   "language": "python",
   "name": "python3"
  },
  "language_info": {
   "codemirror_mode": {
    "name": "ipython",
    "version": 3
   },
   "file_extension": ".py",
   "mimetype": "text/x-python",
   "name": "python",
   "nbconvert_exporter": "python",
   "pygments_lexer": "ipython3",
   "version": "3.7.6"
  }
 },
 "nbformat": 4,
 "nbformat_minor": 1
}
